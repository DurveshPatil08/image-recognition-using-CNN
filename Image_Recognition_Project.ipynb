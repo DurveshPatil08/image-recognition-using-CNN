{
  "cells": [
    {
      "cell_type": "code",
      "execution_count": null,
      "metadata": {
        "id": "ADUoZpCk40O7"
      },
      "outputs": [],
      "source": [
        "import keras\n",
        "from keras.datasets import cifar10\n",
        "from keras.models import Sequential\n",
        "from keras.layers import Dense, Dropout, Flatten, Conv2D, MaxPooling2D\n",
        "from pathlib import Path\n",
        "from keras.utils.np_utils import to_categorical"
      ]
    },
    {
      "cell_type": "code",
      "execution_count": null,
      "metadata": {
        "colab": {
          "base_uri": "https://localhost:8080/"
        },
        "id": "Pl6MSxfd7vF5",
        "outputId": "3991bd83-39b3-4d47-ef48-e632eb1005f4"
      },
      "outputs": [
        {
          "name": "stdout",
          "output_type": "stream",
          "text": [
            "Downloading data from https://www.cs.toronto.edu/~kriz/cifar-10-python.tar.gz\n",
            "170498071/170498071 [==============================] - 13s 0us/step\n"
          ]
        }
      ],
      "source": [
        "(X_train,y_train),(X_test, y_test)=cifar10.load_data()"
      ]
    },
    {
      "cell_type": "code",
      "execution_count": null,
      "metadata": {
        "id": "dzQoYx4I73Oc"
      },
      "outputs": [],
      "source": [
        "X_train=X_train.astype('float32')\n",
        "X_test=X_test.astype('float32')\n",
        "X_train/=255.0\n",
        "X_test/=255.0"
      ]
    },
    {
      "cell_type": "code",
      "execution_count": null,
      "metadata": {
        "id": "cnk5vLtl75iC"
      },
      "outputs": [],
      "source": [
        "y_train=to_categorical(y_train,10)\n",
        "y_test=to_categorical(y_test,10)"
      ]
    },
    {
      "cell_type": "code",
      "execution_count": null,
      "metadata": {
        "id": "dxKgI6Gt7-Yz"
      },
      "outputs": [],
      "source": [
        "model=Sequential()\n",
        "model.add(Conv2D(32,(3,3),padding='same',input_shape=(32,32,3),activation='relu'))\n",
        "model.add(Conv2D(32,(3,3),activation='relu'))\n",
        "model.add(MaxPooling2D(pool_size=(2,2)))\n",
        "model.add(Dropout(0.25))\n",
        "\n",
        "model.add(Conv2D(64,(3,3),padding='same',activation='relu'))\n",
        "model.add(Conv2D(32,(3,3),activation='relu'))\n",
        "model.add(MaxPooling2D(pool_size=(2,2)))\n",
        "model.add(Dropout(0.25))\n",
        "\n",
        "model.add(Flatten())\n",
        "model.add(Dense(512, activation='relu'))\n",
        "model.add(Dropout(0.5))\n",
        "model.add(Dense(10,activation='softmax'))"
      ]
    },
    {
      "cell_type": "code",
      "execution_count": null,
      "metadata": {
        "colab": {
          "base_uri": "https://localhost:8080/"
        },
        "id": "2emiT1tQ8nBU",
        "outputId": "6357896c-e47f-4d69-dac0-5055fc83454a"
      },
      "outputs": [
        {
          "name": "stdout",
          "output_type": "stream",
          "text": [
            "Model: \"sequential\"\n",
            "_________________________________________________________________\n",
            " Layer (type)                Output Shape              Param #   \n",
            "=================================================================\n",
            " conv2d (Conv2D)             (None, 32, 32, 32)        896       \n",
            "                                                                 \n",
            " conv2d_1 (Conv2D)           (None, 30, 30, 32)        9248      \n",
            "                                                                 \n",
            " max_pooling2d (MaxPooling2D  (None, 15, 15, 32)       0         \n",
            " )                                                               \n",
            "                                                                 \n",
            " dropout (Dropout)           (None, 15, 15, 32)        0         \n",
            "                                                                 \n",
            " conv2d_2 (Conv2D)           (None, 15, 15, 64)        18496     \n",
            "                                                                 \n",
            " conv2d_3 (Conv2D)           (None, 13, 13, 32)        18464     \n",
            "                                                                 \n",
            " max_pooling2d_1 (MaxPooling  (None, 6, 6, 32)         0         \n",
            " 2D)                                                             \n",
            "                                                                 \n",
            " dropout_1 (Dropout)         (None, 6, 6, 32)          0         \n",
            "                                                                 \n",
            " flatten (Flatten)           (None, 1152)              0         \n",
            "                                                                 \n",
            " dense (Dense)               (None, 512)               590336    \n",
            "                                                                 \n",
            " dropout_2 (Dropout)         (None, 512)               0         \n",
            "                                                                 \n",
            " dense_1 (Dense)             (None, 10)                5130      \n",
            "                                                                 \n",
            "=================================================================\n",
            "Total params: 642,570\n",
            "Trainable params: 642,570\n",
            "Non-trainable params: 0\n",
            "_________________________________________________________________\n"
          ]
        }
      ],
      "source": [
        "model.compile(\n",
        "    loss='categorical_crossentropy',\n",
        "    optimizer='adam',\n",
        "    metrics=['accuracy'])\n",
        "\n",
        "model.summary()"
      ]
    },
    {
      "cell_type": "code",
      "execution_count": null,
      "metadata": {
        "colab": {
          "base_uri": "https://localhost:8080/"
        },
        "id": "WCjQtiwB8pTG",
        "outputId": "3e42e83f-baed-4bdb-b9bf-7c063521952e"
      },
      "outputs": [
        {
          "name": "stdout",
          "output_type": "stream",
          "text": [
            "Epoch 1/12\n",
            "1563/1563 [==============================] - 23s 7ms/step - loss: 1.6146 - accuracy: 0.4033 - val_loss: 1.2745 - val_accuracy: 0.5451\n",
            "Epoch 2/12\n",
            "1563/1563 [==============================] - 9s 6ms/step - loss: 1.2464 - accuracy: 0.5541 - val_loss: 1.0794 - val_accuracy: 0.6245\n",
            "Epoch 3/12\n",
            "1563/1563 [==============================] - 11s 7ms/step - loss: 1.0939 - accuracy: 0.6099 - val_loss: 0.9571 - val_accuracy: 0.6671\n",
            "Epoch 4/12\n",
            "1563/1563 [==============================] - 10s 6ms/step - loss: 0.9953 - accuracy: 0.6474 - val_loss: 0.8883 - val_accuracy: 0.6913\n",
            "Epoch 5/12\n",
            "1563/1563 [==============================] - 10s 6ms/step - loss: 0.9362 - accuracy: 0.6699 - val_loss: 0.8184 - val_accuracy: 0.7136\n",
            "Epoch 6/12\n",
            "1563/1563 [==============================] - 10s 6ms/step - loss: 0.8796 - accuracy: 0.6914 - val_loss: 0.8115 - val_accuracy: 0.7170\n",
            "Epoch 7/12\n",
            "1563/1563 [==============================] - 9s 6ms/step - loss: 0.8518 - accuracy: 0.7006 - val_loss: 0.8093 - val_accuracy: 0.7207\n",
            "Epoch 8/12\n",
            "1563/1563 [==============================] - 9s 6ms/step - loss: 0.8139 - accuracy: 0.7142 - val_loss: 0.7534 - val_accuracy: 0.7403\n",
            "Epoch 9/12\n",
            "1563/1563 [==============================] - 9s 6ms/step - loss: 0.7850 - accuracy: 0.7241 - val_loss: 0.7219 - val_accuracy: 0.7521\n",
            "Epoch 10/12\n",
            "1563/1563 [==============================] - 10s 6ms/step - loss: 0.7667 - accuracy: 0.7319 - val_loss: 0.7223 - val_accuracy: 0.7518\n",
            "Epoch 11/12\n",
            "1563/1563 [==============================] - 9s 6ms/step - loss: 0.7425 - accuracy: 0.7409 - val_loss: 0.7152 - val_accuracy: 0.7560\n",
            "Epoch 12/12\n",
            "1563/1563 [==============================] - 9s 6ms/step - loss: 0.7303 - accuracy: 0.7449 - val_loss: 0.6975 - val_accuracy: 0.7584\n"
          ]
        },
        {
          "data": {
            "text/plain": [
              "<keras.callbacks.History at 0x7f934027edf0>"
            ]
          },
          "execution_count": 7,
          "metadata": {},
          "output_type": "execute_result"
        }
      ],
      "source": [
        "model.fit(\n",
        "    X_train,\n",
        "    y_train,\n",
        "    batch_size=32,\n",
        "    epochs=12,\n",
        "    validation_data=(X_test, y_test),\n",
        "    shuffle=True)"
      ]
    },
    {
      "cell_type": "code",
      "execution_count": null,
      "metadata": {
        "colab": {
          "base_uri": "https://localhost:8080/"
        },
        "id": "Du8eu8ri8r3c",
        "outputId": "5ee9b45f-abba-4934-a265-84beb708c946"
      },
      "outputs": [
        {
          "data": {
            "text/plain": [
              "4384"
            ]
          },
          "execution_count": 8,
          "metadata": {},
          "output_type": "execute_result"
        }
      ],
      "source": [
        "model_structure=model.to_json()\n",
        "f=Path(\"model_structure.json\")\n",
        "f.write_text(model_structure)"
      ]
    },
    {
      "cell_type": "code",
      "execution_count": null,
      "metadata": {
        "id": "X82avKR28wAT"
      },
      "outputs": [],
      "source": [
        "model.save_weights(\"model_weight.h5\")"
      ]
    },
    {
      "cell_type": "code",
      "execution_count": null,
      "metadata": {
        "id": "H80bgcCj8yYf"
      },
      "outputs": [],
      "source": [
        "from keras.models import model_from_json\n",
        "from pathlib import Path\n",
        "from keras.preprocessing import image\n",
        "import numpy as np"
      ]
    },
    {
      "cell_type": "code",
      "execution_count": null,
      "metadata": {
        "id": "BbC8Za9T80t_"
      },
      "outputs": [],
      "source": [
        "class_labels=[\n",
        "    \"Planes\",\n",
        "    \"car\",\n",
        "    \"Bird\",\n",
        "    \"Cat\",\n",
        "    \"Deer\",\n",
        "    \"Dog\",\n",
        "    \"Frog\",\n",
        "    \"Horse\",\n",
        "    \"Boat\",\n",
        "    \"Truck\",\n",
        "]"
      ]
    },
    {
      "cell_type": "code",
      "execution_count": null,
      "metadata": {
        "colab": {
          "background_save": true
        },
        "id": "nu3Onh7V83Oj"
      },
      "outputs": [],
      "source": [
        "f=Path(\"model_structure.json\")\n",
        "model_structure=f.read_text()"
      ]
    },
    {
      "cell_type": "code",
      "execution_count": null,
      "metadata": {
        "id": "np3BDJet85i3"
      },
      "outputs": [],
      "source": [
        "model=model_from_json(model_structure)"
      ]
    },
    {
      "cell_type": "code",
      "execution_count": null,
      "metadata": {
        "id": "0-0QdXmo87dK"
      },
      "outputs": [],
      "source": [
        "model.load_weights(\"model_weight.h5\")"
      ]
    },
    {
      "cell_type": "code",
      "execution_count": null,
      "metadata": {
        "colab": {
          "base_uri": "https://localhost:8080/",
          "height": 447
        },
        "id": "4C8YHr88894u",
        "outputId": "5dd6a832-3fdc-4a9e-ac69-c9d8f515dde7"
      },
      "outputs": [
        {
          "data": {
            "text/plain": [
              "<matplotlib.image.AxesImage at 0x7f92b9ef8400>"
            ]
          },
          "execution_count": 23,
          "metadata": {},
          "output_type": "execute_result"
        },
        {
          "data": {
            "image/png": "[encoded data removed]",
            "text/plain": [
              "<Figure size 640x480 with 1 Axes>"
            ]
          },
          "metadata": {},
          "output_type": "display_data"
        }
      ],
      "source": [
        "import matplotlib.pyplot as plt\n",
        "from tensorflow.keras.utils import load_img, img_to_array\n",
        "img=load_img(\"Tree.png\",target_size=(32,32))\n",
        "plt.imshow(img)"
      ]
    },
    {
      "cell_type": "code",
      "execution_count": null,
      "metadata": {
        "id": "vqEv5vps9ATD"
      },
      "outputs": [],
      "source": [
        "from tensorflow.keras.utils import img_to_array\n",
        "image_to_test=img_to_array(img)"
      ]
    },
    {
      "cell_type": "code",
      "execution_count": null,
      "metadata": {
        "id": "y-9RFQKp9C1r"
      },
      "outputs": [],
      "source": [
        "list_of_images=np.expand_dims(image_to_test,axis=0)"
      ]
    },
    {
      "cell_type": "code",
      "execution_count": null,
      "metadata": {
        "colab": {
          "base_uri": "https://localhost:8080/"
        },
        "id": "e3NcfDZt9FGN",
        "outputId": "8f9f821b-7c95-48a4-f897-3c6430de33c8"
      },
      "outputs": [
        {
          "name": "stdout",
          "output_type": "stream",
          "text": [
            "1/1 [==============================] - 0s 20ms/step\n"
          ]
        }
      ],
      "source": [
        "results=model.predict(list_of_images)"
      ]
    },
    {
      "cell_type": "code",
      "execution_count": null,
      "metadata": {
        "id": "lyP4mv7u9HRt"
      },
      "outputs": [],
      "source": [
        "single_result=results[0]"
      ]
    },
    {
      "cell_type": "code",
      "execution_count": null,
      "metadata": {
        "id": "0z4DdIBK9Jli"
      },
      "outputs": [],
      "source": [
        "most_likely_class_index=int(np.argmax(single_result))\n",
        "class_likelihood=single_result[most_likely_class_index]"
      ]
    },
    {
      "cell_type": "code",
      "execution_count": null,
      "metadata": {
        "colab": {
          "background_save": true
        },
        "id": "gUjkLbDq9L4B"
      },
      "outputs": [],
      "source": [
        "class_label=class_labels[most_likely_class_index]"
      ]
    },
    {
      "cell_type": "code",
      "execution_count": null,
      "metadata": {
        "colab": {
          "base_uri": "https://localhost:8080/"
        },
        "id": "LZdfp8BN9OZ6",
        "outputId": "3ffa9743-af2a-47ec-a65b-4727cdcbb796"
      },
      "outputs": [
        {
          "name": "stdout",
          "output_type": "stream",
          "text": [
            "This is a image is a Truck likelihood: 1.000000\n"
          ]
        }
      ],
      "source": [
        "print(\"This is a image is a {} likelihood: {:2f}\".format(class_label, class_likelihood))"
      ]
    }
  ],
  "metadata": {
    "accelerator": "GPU",
    "colab": {
      "provenance": []
    },
    "gpuClass": "standard",
    "kernelspec": {
      "display_name": "Python 3",
      "name": "python3"
    },
    "language_info": {
      "name": "python"
    }
  },
  "nbformat": 4,
  "nbformat_minor": 0
}